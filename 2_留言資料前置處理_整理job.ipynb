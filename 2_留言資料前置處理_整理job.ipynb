{
 "cells": [
  {
   "cell_type": "markdown",
   "id": "1fa0144e-b795-4382-ba4e-bcf626f20d71",
   "metadata": {},
   "source": [
    "# Data preprocessing"
   ]
  },
  {
   "cell_type": "code",
   "execution_count": 1,
   "id": "6331931d-facc-44f3-ae04-bffe93d5b014",
   "metadata": {},
   "outputs": [],
   "source": [
    "#import model\n",
    "import pandas as pd\n",
    "import json\n",
    "import re\n",
    "from datetime import datetime\n",
    "import csv\n",
    "import emoji\n",
    "from ckiptagger import WS, POS, NER, construct_dictionary\n",
    "import os\n",
    "import warnings\n",
    "warnings.simplefilter(action='ignore')"
   ]
  },
  {
   "cell_type": "code",
   "execution_count": 2,
   "id": "0539e401-b3cc-40b7-a7d6-1938e1011253",
   "metadata": {},
   "outputs": [
    {
     "name": "stdout",
     "output_type": "stream",
     "text": [
      "341\n"
     ]
    }
   ],
   "source": [
    "#Start reading the original json files and merge them together\n",
    "data = []\n",
    "\n",
    "with open('../論文程式流程/Original_Data/1原始檔案_json/Original_Data_Ptt0114.json', 'r') as f:\n",
    "    data.extend(json.load(f))\n",
    "\n",
    "with open('../論文程式流程/Original_Data/1原始檔案_json/Original_Data_BTC0117.json', 'r') as f:\n",
    "    data.extend(json.load(f))\n",
    "    \n",
    "#輸出資料列表長度以此檢查數據是否成功合併 \n",
    "print(len(data))\n",
    "# data[0]"
   ]
  },
  {
   "cell_type": "code",
   "execution_count": null,
   "id": "bc0a5077-f0a1-4436-81a5-3b0d093eda54",
   "metadata": {},
   "outputs": [],
   "source": []
  },
  {
   "cell_type": "markdown",
   "id": "bdb58349-0efe-42e9-8d95-578cf11a1082",
   "metadata": {
    "tags": []
   },
   "source": [
    "## Fetch all comments containing \"推\" (push), \"箭頭\" (arrow), and \"噓\" (boo)"
   ]
  },
  {
   "cell_type": "code",
   "execution_count": 3,
   "id": "41483e81-63f2-45ce-b487-ac6cf00e4a9b",
   "metadata": {},
   "outputs": [],
   "source": [
    "#set null value\n",
    "#推\n",
    "messages_push = []\n",
    "date_push = []\n",
    "time_push = []\n",
    "ip_push = []\n",
    "types_push = []\n",
    "authors_push = []\n",
    "titles_push = []\n",
    "year_push=[]\n",
    "month_push=[]\n",
    "day_push=[]\n",
    "time_push=[]\n",
    "data1_push=[]\n",
    "\n",
    "#箭頭\n",
    "messages_arrow = []\n",
    "date_arrow = []\n",
    "time_arrow= []\n",
    "ip_arrow= []\n",
    "types_arrow = []\n",
    "authors_arrow = []\n",
    "titles_arrow = []\n",
    "year_arrow=[]\n",
    "month_arrow=[]\n",
    "day_arrow=[]\n",
    "time_arrow=[]\n",
    "data1_arrow=[]\n",
    "\n",
    "#噓\n",
    "messages_boo = []\n",
    "date_boo = []\n",
    "time_boo= []\n",
    "ip_boo= []\n",
    "types_boo = []\n",
    "authors_boo = []\n",
    "titles_boo = []\n",
    "year_boo=[]\n",
    "month_boo=[]\n",
    "day_boo=[]\n",
    "time_boo=[]\n",
    "data1_boo=[]"
   ]
  },
  {
   "cell_type": "code",
   "execution_count": 4,
   "id": "40e1fda2-13b4-4c54-bcb6-935d86e15d9b",
   "metadata": {},
   "outputs": [],
   "source": [
    "#Use a for loop, put data into i, and then write a for loop to put i['comment']['push'] into push\n",
    "for i in data:#推\n",
    "    # 新增以下兩行\n",
    "    author = i['author']\n",
    "    title = i['title']\n",
    "    date_str = (i['time'])\n",
    "    date_obj = datetime.strptime(date_str, '%a %b %d %H:%M:%S %Y')\n",
    "\n",
    "    for push in i['comment']['推']:\n",
    "        push_content = push['push_content']\n",
    "        if push_content is None:\n",
    "            continue\n",
    "        messages_push.append(push['push_content'])\n",
    "        push_time = push['push_time']\n",
    "        # 解析日期、時間和IP欄位\n",
    "        match = re.match(r'\\s*([\\d.]+)?\\s*(\\d+/\\d+\\s+\\d+:\\d+)\\s*', push_time)\n",
    "        if match:\n",
    "            ip = match.group(1) or None\n",
    "            date = match.group(2).split()[0]\n",
    "            time = match.group(2).split()[1]\n",
    "        else:\n",
    "            ip = None\n",
    "            date = None\n",
    "            time = None\n",
    "        date_push.append(date)\n",
    "        time_push.append(time)\n",
    "        ip_push.append(ip)\n",
    "        types_push.append('推')\n",
    "        # 新增以下兩行\n",
    "        authors_push.append(author)\n",
    "        titles_push.append(title)\n",
    "        year_push.append(date_obj.year)\n",
    "        month_push.append(date_obj.month)\n",
    "        day_push.append(date_obj.day)\n",
    "        time_push.append(date_obj.strftime('%H:%M:%S'))\n",
    "        data1_push.append(date_obj.strftime('%Y/%m/%d'))\n",
    "\n",
    "for i in data:#箭頭\n",
    "    author = i['author']\n",
    "    title = i['title']\n",
    "    date_str = (i['time'])\n",
    "    date_obj = datetime.strptime(date_str, '%a %b %d %H:%M:%S %Y')\n",
    "    \n",
    "    \n",
    "    for arrow in i['comment']['→']:\n",
    "        arrow_content=arrow['push_content']\n",
    "        if arrow_content is None:\n",
    "            continue\n",
    "        messages_arrow.append(arrow['push_content'])\n",
    "        arrow_time = (arrow['push_time'])\n",
    "        # 解析日期、時間和IP欄位\n",
    "        match = re.match(r'\\s*([\\d.]+)?\\s*(\\d+/\\d+\\s+\\d+:\\d+)\\s*', arrow_time)\n",
    "        if match:\n",
    "            ip = match.group(1) or None\n",
    "            date = match.group(2).split()[0]\n",
    "            time = match.group(2).split()[1]\n",
    "        else:\n",
    "            ip = None\n",
    "            date = None\n",
    "            time = None\n",
    "        date_arrow.append(date)\n",
    "        time_arrow.append(time)\n",
    "        ip_arrow.append(ip)\n",
    "        types_arrow.append('箭頭')\n",
    "        authors_arrow.append(author)\n",
    "        titles_arrow.append(title)\n",
    "        year_arrow.append(date_obj.year)\n",
    "        month_arrow.append(date_obj.month)\n",
    "        day_arrow.append(date_obj.day)\n",
    "        time_arrow.append(date_obj.strftime('%H:%M:%S'))\n",
    "        data1_arrow.append(date_obj.strftime('%Y/%m/%d'))\n",
    "        # 在這裡進行噓文的處理     \n",
    "\n",
    "for i in data:#噓\n",
    "    author = i['author']\n",
    "    title = i['title']\n",
    "    date_str = (i['time'])\n",
    "    date_obj = datetime.strptime(date_str, '%a %b %d %H:%M:%S %Y')\n",
    "    \n",
    "    for boo in i['comment']['噓']:\n",
    "        boo_content = boo['push_content']\n",
    "        if boo_content is None:\n",
    "            continue\n",
    "        messages_boo.append(boo['push_content'])\n",
    "        boo_time = (boo['push_time'])\n",
    "        # 解析日期、時間和IP欄位\n",
    "        match = re.match(r'\\s*([\\d.]+)?\\s*(\\d+/\\d+\\s+\\d+:\\d+)\\s*', boo_time)\n",
    "        if match:\n",
    "            ip = match.group(1) or None\n",
    "            date = match.group(2).split()[0]\n",
    "            time = match.group(2).split()[1]\n",
    "        else:\n",
    "            ip = None\n",
    "            date = None\n",
    "            time = None \n",
    "        date_boo.append(date)\n",
    "        time_boo.append(time)\n",
    "        ip_boo.append(ip)\n",
    "        types_boo.append('噓')\n",
    "        authors_boo.append(author)\n",
    "        titles_boo.append(title)\n",
    "        year_boo.append(date_obj.year)\n",
    "        month_boo.append(date_obj.month)\n",
    "        day_boo.append(date_obj.day)\n",
    "        time_boo.append(date_obj.strftime('%H:%M:%S'))\n",
    "        data1_boo.append(date_obj.strftime('%Y/%m/%d'))\n",
    "        # 在這裡進行箭頭的處理 "
   ]
  },
  {
   "cell_type": "code",
   "execution_count": 5,
   "id": "823f98e5-7249-4ae7-bc19-5aa9cccd1ca5",
   "metadata": {},
   "outputs": [
    {
     "name": "stdout",
     "output_type": "stream",
     "text": [
      "推文數量:  4462\n",
      "推文作者數量:  4462\n",
      "推文標題數量:  4462\n",
      "推文留言數量:  4462\n",
      "---------------\n",
      "箭頭數量:  4952\n",
      "箭頭作者數量:  4952\n",
      "箭頭標題數量:  4952\n",
      "箭頭留言數量:  4952\n",
      "---------------\n",
      "噓數量:  831\n",
      "噓作者數量:  831\n",
      "噓標題數量:  831\n",
      "噓留言數量:  831\n"
     ]
    }
   ],
   "source": [
    "#This is to confirm whether the quantity is normal(推)\n",
    "\n",
    "result1 = list(zip(authors_push,titles_push,year_push,month_push,day_push,time_push,data1_push,messages_push, date_push, time_push, ip_push, types_push))        \n",
    "print(\"推文數量: \",len(result1))\n",
    "print(\"推文作者數量: \",len(authors_push))\n",
    "print(\"推文標題數量: \",len(titles_push))\n",
    "print(\"推文留言數量: \",len(messages_push)) \n",
    "\n",
    "print(\"---------------\")\n",
    "#This is to confirm whether the quantity is normal(箭頭)\n",
    "result2 = list(zip(authors_arrow,titles_arrow,year_arrow,month_arrow,day_arrow,time_arrow,data1_arrow,messages_arrow, date_arrow, time_arrow, ip_arrow, types_arrow))\n",
    "print(\"箭頭數量: \",len(result2))\n",
    "print(\"箭頭作者數量: \",len(authors_arrow))\n",
    "print(\"箭頭標題數量: \",len(titles_arrow))\n",
    "print(\"箭頭留言數量: \",len(messages_arrow))\n",
    "\n",
    "print(\"---------------\")\n",
    "#This is to confirm whether the quantity is normal(噓)\n",
    "result3 = list(zip(authors_boo,titles_boo,year_boo,month_boo,day_boo,time_boo,data1_boo,messages_boo, date_boo, time_boo, ip_boo ,types_boo))\n",
    "print(\"噓數量: \",len(result3))\n",
    "print(\"噓作者數量: \",len(authors_boo))\n",
    "print(\"噓標題數量: \",len(titles_boo))\n",
    "print(\"噓留言數量: \",len(messages_boo))"
   ]
  },
  {
   "cell_type": "code",
   "execution_count": 6,
   "id": "c787b4c2-ea50-431e-9625-ee9c40c1e5ea",
   "metadata": {},
   "outputs": [
    {
     "name": "stdout",
     "output_type": "stream",
     "text": [
      "推文數量:  4462\n",
      "箭頭數量:  4952\n",
      "噓數量:  831\n",
      "總共留言數量:  10245\n"
     ]
    }
   ],
   "source": [
    "#Combine the three results\n",
    "all_results = []\n",
    "all_results.extend(result1)\n",
    "all_results.extend(result2)\n",
    "all_results.extend(result3)\n",
    "\n",
    "print(\"推文數量: \",len(result1))\n",
    "print(\"箭頭數量: \",len(result2))\n",
    "print(\"噓數量: \",len(result3))\n",
    "print(\"總共留言數量: \",len(result1)+len(result2)+len(result3))"
   ]
  },
  {
   "cell_type": "code",
   "execution_count": 7,
   "id": "a1d79074-664b-45a9-ac70-f872c42f2b00",
   "metadata": {},
   "outputs": [
    {
     "name": "stdout",
     "output_type": "stream",
     "text": [
      "[('royroy666 (老鼠)', '[問卦] 加密貨幣在噴什麼東西 不是說電子垃圾嗎?', 2023, 1, 9, '10:23', '2023/01/09', ': 所以才是垃圾啊', '01/09', '10:23', '223.140.163.223', '噓'), ('royroy666 (老鼠)', '[問卦] 加密貨幣在噴什麼東西 不是說電子垃圾嗎?', 2023, 1, 9, '10:23:11', '2023/01/09', ': 不噴怎麼騙你們這些韭菜上車', '01/09', '10:23:11', '111.71.81.26', '噓')]\n"
     ]
    }
   ],
   "source": [
    "#check the form is correct\n",
    "print(result3[0:2])"
   ]
  },
  {
   "cell_type": "code",
   "execution_count": 8,
   "id": "574d5b88-0649-4b59-8a2a-80792944d9aa",
   "metadata": {},
   "outputs": [],
   "source": [
    "#save data\n",
    "with open('./PTT_data/Data preprocessing/all_Original_comment-Ptt0114-btc0117_job.csv', 'w', newline='', encoding='utf-8-sig') as csvfile:\n",
    "    writer = csv.writer(csvfile)\n",
    "    writer.writerow(['author','title','year','month','date','time','message_data','message', 'message_day', 'message_time', 'message_ip','type'])  # 寫入表頭\n",
    "    writer.writerows(all_results)  # 寫入資料"
   ]
  },
  {
   "cell_type": "code",
   "execution_count": null,
   "id": "1ef5ce25-3d4b-49e4-b49f-6cc1a57ffcaa",
   "metadata": {},
   "outputs": [],
   "source": []
  },
  {
   "cell_type": "markdown",
   "id": "96877edd-611a-40f4-8baf-fc5349a9b926",
   "metadata": {},
   "source": [
    "## Data cleaning"
   ]
  },
  {
   "cell_type": "code",
   "execution_count": 9,
   "id": "2f0c479d-f755-405b-9d1a-e0c3ebb5a123",
   "metadata": {},
   "outputs": [
    {
     "data": {
      "text/html": [
       "<div>\n",
       "<style scoped>\n",
       "    .dataframe tbody tr th:only-of-type {\n",
       "        vertical-align: middle;\n",
       "    }\n",
       "\n",
       "    .dataframe tbody tr th {\n",
       "        vertical-align: top;\n",
       "    }\n",
       "\n",
       "    .dataframe thead th {\n",
       "        text-align: right;\n",
       "    }\n",
       "</style>\n",
       "<table border=\"1\" class=\"dataframe\">\n",
       "  <thead>\n",
       "    <tr style=\"text-align: right;\">\n",
       "      <th></th>\n",
       "      <th>author</th>\n",
       "      <th>title</th>\n",
       "      <th>year</th>\n",
       "      <th>month</th>\n",
       "      <th>date</th>\n",
       "      <th>time</th>\n",
       "      <th>message_data</th>\n",
       "      <th>message</th>\n",
       "      <th>message_day</th>\n",
       "      <th>message_time</th>\n",
       "      <th>message_ip</th>\n",
       "      <th>type</th>\n",
       "    </tr>\n",
       "  </thead>\n",
       "  <tbody>\n",
       "    <tr>\n",
       "      <th>0</th>\n",
       "      <td>royroy666 (老鼠)</td>\n",
       "      <td>[問卦] 加密貨幣在噴什麼東西 不是說電子垃圾嗎?</td>\n",
       "      <td>2023</td>\n",
       "      <td>1</td>\n",
       "      <td>9</td>\n",
       "      <td>10:23</td>\n",
       "      <td>2023/01/09</td>\n",
       "      <td>: 爽就噴</td>\n",
       "      <td>01/09</td>\n",
       "      <td>10:23</td>\n",
       "      <td>114.37.176.224</td>\n",
       "      <td>推</td>\n",
       "    </tr>\n",
       "  </tbody>\n",
       "</table>\n",
       "</div>"
      ],
      "text/plain": [
       "           author                      title  year  month  date   time  \\\n",
       "0  royroy666 (老鼠)  [問卦] 加密貨幣在噴什麼東西 不是說電子垃圾嗎?  2023      1     9  10:23   \n",
       "\n",
       "  message_data message message_day message_time      message_ip type  \n",
       "0   2023/01/09   : 爽就噴       01/09        10:23  114.37.176.224    推  "
      ]
     },
     "execution_count": 9,
     "metadata": {},
     "output_type": "execute_result"
    }
   ],
   "source": [
    "#read data\n",
    "df_comment = pd.read_csv(r\"./PTT_data/Data preprocessing/all_Original_comment-Ptt0114-btc0117_job.csv\")\n",
    "df_comment.head(1)"
   ]
  },
  {
   "cell_type": "code",
   "execution_count": 10,
   "id": "c8ec34c8-7dd4-4fb3-bdfd-755dc04a859e",
   "metadata": {},
   "outputs": [
    {
     "name": "stdout",
     "output_type": "stream",
     "text": [
      "<class 'pandas.core.frame.DataFrame'>\n",
      "RangeIndex: 10245 entries, 0 to 10244\n",
      "Data columns (total 12 columns):\n",
      " #   Column        Non-Null Count  Dtype \n",
      "---  ------        --------------  ----- \n",
      " 0   author        10211 non-null  object\n",
      " 1   title         10245 non-null  object\n",
      " 2   year          10245 non-null  int64 \n",
      " 3   month         10245 non-null  int64 \n",
      " 4   date          10245 non-null  int64 \n",
      " 5   time          10244 non-null  object\n",
      " 6   message_data  10245 non-null  object\n",
      " 7   message       10245 non-null  object\n",
      " 8   message_day   10243 non-null  object\n",
      " 9   message_time  10244 non-null  object\n",
      " 10  message_ip    10243 non-null  object\n",
      " 11  type          10245 non-null  object\n",
      "dtypes: int64(3), object(9)\n",
      "memory usage: 960.6+ KB\n"
     ]
    }
   ],
   "source": [
    "df_comment.info()"
   ]
  },
  {
   "cell_type": "code",
   "execution_count": 11,
   "id": "47944057-b853-422f-ab9c-36e5a55cb6da",
   "metadata": {},
   "outputs": [
    {
     "data": {
      "text/plain": [
       "0                         爽就噴\n",
       "1                        割韭菜哦\n",
       "2                   你怎不看去年崩多慘\n",
       "3          就是屎啊不是有鄉民用屎完美解釋過了嗎\n",
       "4    這是真的我上次去日本玩隔壁車廂就在拍a片我還被找\n",
       "Name: message, dtype: object"
      ]
     },
     "execution_count": 11,
     "metadata": {},
     "output_type": "execute_result"
    }
   ],
   "source": [
    "#set function\n",
    "def cleaner(text):\n",
    "    text = re.sub(\"@[A-Za-z0-9]+\",\"\",text) # Remove @ sign\n",
    "    text = re.sub(r\"(?:\\@|http?\\://|https?\\://|www)\\S+\", \"\", text) # Remove http links\n",
    "    text = re.sub(r\"[^\\w\\s]+\",\"\", text) # Remove special characters\n",
    "    text = ''.join(c for c in text if c not in emoji.EMOJI_DATA) # Remove Emojis\n",
    "    text = text.replace(\"#\", \"\").replace(\"_\", \" \") # Remove hashtag sign but keep the text\n",
    "    text = text.replace(\"&\",\"\").replace(\"_\",\"\") # Remove &\n",
    "    text = text.replace(\" \",\"\").replace(\"_\",\"\") # Remove spaces\n",
    "    text = text.replace(\":\",\"\").replace(\"_\",\"\") # Remove colons\n",
    "    text = text.replace(\"\\n\",\"\").replace(\"_\",\"\") # Remove newlines\n",
    "    text = text.replace(\"ω\",\"\").replace(\"_\",\"\") # Remove newlines\n",
    "    return text.lower() # Convert all strings to lowercase\n",
    "\n",
    "df_comment['message'] = df_comment['message'].apply(cleaner)\n",
    "df_comment['message'].head()"
   ]
  },
  {
   "cell_type": "code",
   "execution_count": 12,
   "id": "739d9bbd-8f69-4962-96ad-d68a613dda15",
   "metadata": {},
   "outputs": [
    {
     "data": {
      "text/plain": [
       "0                             爽就噴\n",
       "1                            割韭菜哦\n",
       "2                       你怎不看去年崩多慘\n",
       "3              就是屎啊不是有鄉民用屎完美解釋過了嗎\n",
       "4        這是真的我上次去日本玩隔壁車廂就在拍a片我還被找\n",
       "                   ...           \n",
       "10240                   笨到買新電腦可悲仔\n",
       "10241                       早在就買了\n",
       "10242                      垃圾電子訊號\n",
       "10243                     下週簽陶豬了懂\n",
       "10244                        你搞錯了\n",
       "Name: message, Length: 10245, dtype: object"
      ]
     },
     "execution_count": 12,
     "metadata": {},
     "output_type": "execute_result"
    }
   ],
   "source": [
    "# Remove numbers\n",
    "df_comment['message'] = df_comment['message'].str.replace('\\d+','') \n",
    "\n",
    "# Remove whitespace\n",
    "df_comment['message'] = df_comment['message'].str.replace('\\s+',' ')\n",
    "df_comment['message']"
   ]
  },
  {
   "cell_type": "code",
   "execution_count": null,
   "id": "a8ec26d8-8458-4de0-b0d6-ea964117c0dd",
   "metadata": {},
   "outputs": [],
   "source": []
  },
  {
   "cell_type": "markdown",
   "id": "77b70617-2a99-4537-9412-4b223080036a",
   "metadata": {},
   "source": [
    "## Chinese word segmentation with CKIP"
   ]
  },
  {
   "cell_type": "code",
   "execution_count": 13,
   "id": "c0757cd0-b968-4120-ab37-c29b00be79ca",
   "metadata": {},
   "outputs": [],
   "source": [
    "#This function CKIP breaks the word\n",
    "def ckip_segment(text, user_dict_path=None):\n",
    "    \n",
    "    ws = WS(os.path.join(os.getcwd(), r\"..\\留言\\data\"))\n",
    "    pos = POS(os.path.join(os.getcwd(), r\"..\\留言\\data\"))\n",
    "    ner = NER(os.path.join(os.getcwd(),r\"..\\留言\\data\"))\n",
    "    \n",
    "    if user_dict_path:\n",
    "        df_ner_dict = pd.read_fwf(user_dict_path, sep=\"\\n\", header=None)\n",
    "        df_ner_dict.columns = ['NER']\n",
    "        list_ner_dict = list(df_ner_dict['NER'])\n",
    "        word_to_weight = dict((el, 1) for el in list_ner_dict)\n",
    "        user_dict = construct_dictionary(word_to_weight)\n",
    "    else:\n",
    "        user_dict = None\n",
    "        \n",
    "    word_sentence_list = ws(\n",
    "        sentence_list,\n",
    "        sentence_segmentation=True,\n",
    "        segment_delimiter_set={'?', '？', '!', '！', '。', ',', '，', ';', ':', '、', '(', ')', '（', '）'},\n",
    "        recommend_dictionary=user_dict,\n",
    "        # coerce_dictionary=dict_for_CKIP\n",
    "        )\n",
    "    \n",
    "    pos_sentence_list = pos(word_sentence_list)\n",
    "    entity_sentence_list = ner(word_sentence_list, pos_sentence_list)\n",
    "    \n",
    "    return word_sentence_list, pos_sentence_list, entity_sentence_list"
   ]
  },
  {
   "cell_type": "code",
   "execution_count": 14,
   "id": "1cd96730-9726-49d1-b44d-5b0c23423c34",
   "metadata": {},
   "outputs": [],
   "source": [
    "#Each line is read as a string\n",
    "sentence_list=list(df_comment['message'])\n",
    "# sentence_list"
   ]
  },
  {
   "cell_type": "code",
   "execution_count": 15,
   "id": "7fb444c4-a949-4ddf-9dda-5c60430a3003",
   "metadata": {},
   "outputs": [],
   "source": [
    "#Call the CKIP tokenization function\n",
    "user_dict_path = r\"..\\論文程式流程\\停用詞與詞\\情緒斷詞.txt\"\n",
    "word_sentence_list, pos_sentence_list, entity_sentence_list = ckip_segment(sentence_list, \n",
    "                                                                           user_dict_path=user_dict_path)\n",
    "# print(word_sentence_list, pos_sentence_list, entity_sentence_list)"
   ]
  },
  {
   "cell_type": "code",
   "execution_count": 16,
   "id": "44379eb2-da08-481a-8f83-d2bf621b4c71",
   "metadata": {},
   "outputs": [
    {
     "name": "stdout",
     "output_type": "stream",
     "text": [
      "['爽', '就', '噴'] ['VH', 'D', 'VC']\n"
     ]
    }
   ],
   "source": [
    "print(word_sentence_list[0], pos_sentence_list[0])"
   ]
  },
  {
   "cell_type": "code",
   "execution_count": 17,
   "id": "5000bc89-202c-410d-be59-6e0e3235cdc2",
   "metadata": {},
   "outputs": [],
   "source": [
    "#Import BERTopic model-specific terminology\n",
    "stopwords = pd.read_csv(r\"..\\論文程式流程\\停用詞與詞\\stopword.csv\",header=None)\n",
    "stopwords_list=stopwords[0].tolist()"
   ]
  },
  {
   "cell_type": "code",
   "execution_count": 18,
   "id": "e679bb62-0d3c-4d07-8581-182563ebc285",
   "metadata": {},
   "outputs": [],
   "source": [
    "remove_word=[]\n",
    "for sentence in word_sentence_list:\n",
    "    temp=[]\n",
    "    for word in sentence:\n",
    "        if word not in stopwords_list:\n",
    "            temp.append(word)\n",
    "    remove_word.append(temp)"
   ]
  },
  {
   "cell_type": "code",
   "execution_count": null,
   "id": "70ce59bd-78fc-45c9-a606-dc417670dc7a",
   "metadata": {},
   "outputs": [],
   "source": []
  },
  {
   "cell_type": "markdown",
   "id": "9b098ac5-c533-4be0-8ce6-95eb9c8ce8b8",
   "metadata": {},
   "source": [
    "## 刪除停用詞函示導入"
   ]
  },
  {
   "cell_type": "code",
   "execution_count": 19,
   "id": "ec31eb58-2418-4877-9ac7-ea93708b64c5",
   "metadata": {},
   "outputs": [],
   "source": [
    "#stop word function\n",
    "def filter_pos(word_sentence_list, pos_sentence_list, delwordlist):\n",
    "    ziplist = zip(word_sentence_list, pos_sentence_list)\n",
    "    dictOfWords = list(ziplist)\n",
    "    \n",
    "    comlist = []\n",
    "    comlist_pos = []\n",
    "    \n",
    "    for dictOfWord in dictOfWords:\n",
    "        comlist1 = []\n",
    "        comlist2=[]\n",
    "        for word, pos in zip(dictOfWord[0], dictOfWord[1]):\n",
    "            if word != ' // ' and pos not in delwordlist:\n",
    "                comlist1.append(word + \" \" + pos)\n",
    "                comlist2.append(word)\n",
    "                \n",
    "        comlist_pos.append(comlist1)\n",
    "        comlist.append(comlist2)\n",
    "       \n",
    "    return comlist_pos, comlist"
   ]
  },
  {
   "cell_type": "raw",
   "id": "cddb6c10-27fd-4c90-9a88-798c53ebf0cf",
   "metadata": {},
   "source": [
    "https://ckip.iis.sinica.edu.tw/CKIP/tr/9804_2013.pdf\n",
    "https://ithelp.ithome.com.tw/articles/10295882\n",
    "\n",
    "示範:\n",
    "Neu\t數詞定詞\n",
    "Neqa\t數量定詞\n",
    "Nep\t指代定詞\n",
    "Nh\t代名詞(他、我們)\n",
    "Nb\t專有名詞(吳大猷、余光中、詩經、雙魚座。)張、王、李。"
   ]
  },
  {
   "cell_type": "code",
   "execution_count": 20,
   "id": "9c3d6fc9-ba76-4582-80b2-d46a53015cfa",
   "metadata": {},
   "outputs": [],
   "source": [
    "#call stop word function\n",
    "delwordlist = ['COLONCATEGORY','COMMACATEGORY','DASHCATEGORY','ETCCATEGORY','EXCLAMATIONCATEGORY','DOTCATEGORY',\n",
    "               'PARENTHESISCATEGORY','PAUSECATEGORY','PERIODCATEGORY','QUESTIONCATEGORY','SEMICOLONCATEGORY',\n",
    "               'SPCHANGECATEGORY','WHITESPACE',\n",
    "               'Neu','Neqa','Nep', 'Nh', 'Nb']\n",
    "\n",
    "comlist_pos, comlist= filter_pos(word_sentence_list = remove_word, \n",
    "                                            pos_sentence_list = pos_sentence_list, \n",
    "                                            delwordlist=delwordlist)\n",
    "# print(comlist_pos,allword)"
   ]
  },
  {
   "cell_type": "code",
   "execution_count": null,
   "id": "92f6aa33-7352-416a-a879-73c66387a1dc",
   "metadata": {},
   "outputs": [],
   "source": []
  },
  {
   "cell_type": "code",
   "execution_count": 21,
   "id": "2c28bdf4-8082-4873-8e01-05986ce62dd3",
   "metadata": {},
   "outputs": [
    {
     "name": "stdout",
     "output_type": "stream",
     "text": [
      "斷詞後： ['有', '種', '單位', '叫', 'satoshi', '去', '研究', '一下']\n",
      "斷詞後+詞性標注： ['有 V_2', '種 Nf', '單位 Na', '叫 VG', 'satoshi FW', '去 D', '研究 VE', '一下 Nd']\n"
     ]
    }
   ],
   "source": [
    "#Confirmation words and part-of-speech tagging\n",
    "print(\"斷詞後：\",comlist[10207])\n",
    "print(\"斷詞後+詞性標注：\",comlist_pos[10207])"
   ]
  },
  {
   "cell_type": "code",
   "execution_count": 22,
   "id": "37675aa8-8ffb-4163-833b-7d4f2afbc63b",
   "metadata": {},
   "outputs": [],
   "source": [
    "#Segmentation and part of speech new fields\n",
    "df_comment['Break_word'] = [','.join(words) for words in comlist]\n",
    "df_comment['POS_tags'] = [','.join(tags) for tags in comlist_pos]"
   ]
  },
  {
   "cell_type": "code",
   "execution_count": 23,
   "id": "b1ded214-b609-463c-8cb1-053a8b071043",
   "metadata": {},
   "outputs": [
    {
     "data": {
      "text/html": [
       "<div>\n",
       "<style scoped>\n",
       "    .dataframe tbody tr th:only-of-type {\n",
       "        vertical-align: middle;\n",
       "    }\n",
       "\n",
       "    .dataframe tbody tr th {\n",
       "        vertical-align: top;\n",
       "    }\n",
       "\n",
       "    .dataframe thead th {\n",
       "        text-align: right;\n",
       "    }\n",
       "</style>\n",
       "<table border=\"1\" class=\"dataframe\">\n",
       "  <thead>\n",
       "    <tr style=\"text-align: right;\">\n",
       "      <th></th>\n",
       "      <th>author</th>\n",
       "      <th>title</th>\n",
       "      <th>year</th>\n",
       "      <th>month</th>\n",
       "      <th>date</th>\n",
       "      <th>time</th>\n",
       "      <th>message_data</th>\n",
       "      <th>message</th>\n",
       "      <th>message_day</th>\n",
       "      <th>message_time</th>\n",
       "      <th>message_ip</th>\n",
       "      <th>type</th>\n",
       "      <th>Break_word</th>\n",
       "      <th>POS_tags</th>\n",
       "    </tr>\n",
       "  </thead>\n",
       "  <tbody>\n",
       "    <tr>\n",
       "      <th>10243</th>\n",
       "      <td>kgb2938 (瓜農)</td>\n",
       "      <td>[爆卦] 比特幣又破40000了！</td>\n",
       "      <td>2021</td>\n",
       "      <td>2</td>\n",
       "      <td>6</td>\n",
       "      <td>07:51:57</td>\n",
       "      <td>2021/02/06</td>\n",
       "      <td>下週簽陶豬了懂</td>\n",
       "      <td>2/06</td>\n",
       "      <td>07:51:57</td>\n",
       "      <td>0</td>\n",
       "      <td>噓</td>\n",
       "      <td>下,週,簽,陶豬,懂</td>\n",
       "      <td>下 Nes,週 Nf,簽 VC,陶豬 Na,懂 T</td>\n",
       "    </tr>\n",
       "    <tr>\n",
       "      <th>10244</th>\n",
       "      <td>kgb2938 (瓜農)</td>\n",
       "      <td>[爆卦] 比特幣又破40000了！</td>\n",
       "      <td>2021</td>\n",
       "      <td>2</td>\n",
       "      <td>6</td>\n",
       "      <td>07:52</td>\n",
       "      <td>2021/02/06</td>\n",
       "      <td>你搞錯了</td>\n",
       "      <td>2/07</td>\n",
       "      <td>07:52</td>\n",
       "      <td>0</td>\n",
       "      <td>噓</td>\n",
       "      <td>搞錯</td>\n",
       "      <td>搞錯 VC</td>\n",
       "    </tr>\n",
       "  </tbody>\n",
       "</table>\n",
       "</div>"
      ],
      "text/plain": [
       "             author              title  year  month  date      time  \\\n",
       "10243  kgb2938 (瓜農)  [爆卦] 比特幣又破40000了！  2021      2     6  07:51:57   \n",
       "10244  kgb2938 (瓜農)  [爆卦] 比特幣又破40000了！  2021      2     6     07:52   \n",
       "\n",
       "      message_data  message message_day message_time message_ip type  \\\n",
       "10243   2021/02/06  下週簽陶豬了懂        2/06     07:51:57          0    噓   \n",
       "10244   2021/02/06     你搞錯了        2/07        07:52          0    噓   \n",
       "\n",
       "       Break_word                   POS_tags  \n",
       "10243  下,週,簽,陶豬,懂  下 Nes,週 Nf,簽 VC,陶豬 Na,懂 T  \n",
       "10244          搞錯                      搞錯 VC  "
      ]
     },
     "execution_count": 23,
     "metadata": {},
     "output_type": "execute_result"
    }
   ],
   "source": [
    "df_comment.tail(2)"
   ]
  },
  {
   "cell_type": "code",
   "execution_count": 24,
   "id": "29dc76cd-e617-4a43-ba4e-a1087fec3521",
   "metadata": {},
   "outputs": [],
   "source": [
    "#Set the folder path to save the CSV file\n",
    "save_dir = \"./PTT_data/Data preprocessing/\"\n",
    "\n",
    "#Confirm that the folder path exists, and create a folder if it does not exist\n",
    "if not os.path.exists(save_dir):\n",
    "    os.makedirs(save_dir)\n",
    "\n",
    "#Save the data frame as a CSV file in the specified folder\n",
    "filename = \"Break_Word_all_Comment_job.csv\" #file name\n",
    "df_comment.to_csv(os.path.join(save_dir, filename), index=False,encoding='utf-8-sig')"
   ]
  },
  {
   "cell_type": "code",
   "execution_count": null,
   "id": "f2d7ac40-ab68-42b8-bf1b-ed0f75ca9c44",
   "metadata": {},
   "outputs": [],
   "source": []
  },
  {
   "cell_type": "markdown",
   "id": "a3b386b2-7613-4d6f-95c9-4d82fac7d393",
   "metadata": {},
   "source": [
    "## Taken from the 2022 Time Data Analysis"
   ]
  },
  {
   "cell_type": "code",
   "execution_count": 25,
   "id": "53eab672-d73b-4572-a5b8-bf5dab06a89d",
   "metadata": {},
   "outputs": [
    {
     "data": {
      "text/html": [
       "<div>\n",
       "<style scoped>\n",
       "    .dataframe tbody tr th:only-of-type {\n",
       "        vertical-align: middle;\n",
       "    }\n",
       "\n",
       "    .dataframe tbody tr th {\n",
       "        vertical-align: top;\n",
       "    }\n",
       "\n",
       "    .dataframe thead th {\n",
       "        text-align: right;\n",
       "    }\n",
       "</style>\n",
       "<table border=\"1\" class=\"dataframe\">\n",
       "  <thead>\n",
       "    <tr style=\"text-align: right;\">\n",
       "      <th></th>\n",
       "      <th>author</th>\n",
       "      <th>title</th>\n",
       "      <th>year</th>\n",
       "      <th>month</th>\n",
       "      <th>date</th>\n",
       "      <th>time</th>\n",
       "      <th>message_data</th>\n",
       "      <th>message</th>\n",
       "      <th>message_day</th>\n",
       "      <th>message_time</th>\n",
       "      <th>message_ip</th>\n",
       "      <th>type</th>\n",
       "      <th>Break_word</th>\n",
       "      <th>POS_tags</th>\n",
       "    </tr>\n",
       "  </thead>\n",
       "  <tbody>\n",
       "    <tr>\n",
       "      <th>0</th>\n",
       "      <td>royroy666 (老鼠)</td>\n",
       "      <td>[問卦] 加密貨幣在噴什麼東西 不是說電子垃圾嗎?</td>\n",
       "      <td>2023</td>\n",
       "      <td>1</td>\n",
       "      <td>9</td>\n",
       "      <td>10:23</td>\n",
       "      <td>2023/01/09</td>\n",
       "      <td>爽就噴</td>\n",
       "      <td>01/09</td>\n",
       "      <td>10:23</td>\n",
       "      <td>114.37.176.224</td>\n",
       "      <td>推</td>\n",
       "      <td>爽,就,噴</td>\n",
       "      <td>爽 VH,就 D,噴 VC</td>\n",
       "    </tr>\n",
       "  </tbody>\n",
       "</table>\n",
       "</div>"
      ],
      "text/plain": [
       "           author                      title  year  month  date   time  \\\n",
       "0  royroy666 (老鼠)  [問卦] 加密貨幣在噴什麼東西 不是說電子垃圾嗎?  2023      1     9  10:23   \n",
       "\n",
       "  message_data message message_day message_time      message_ip type  \\\n",
       "0   2023/01/09     爽就噴       01/09        10:23  114.37.176.224    推   \n",
       "\n",
       "  Break_word       POS_tags  \n",
       "0      爽,就,噴  爽 VH,就 D,噴 VC  "
      ]
     },
     "execution_count": 25,
     "metadata": {},
     "output_type": "execute_result"
    }
   ],
   "source": [
    "df_2022 = pd.read_csv(r\"./PTT_data/Data preprocessing/Break_Word_all_Comment_job.csv\")\n",
    "df_2022.head(1)"
   ]
  },
  {
   "cell_type": "code",
   "execution_count": 26,
   "id": "9ef9e13e-e63b-4089-a093-a4da49340e96",
   "metadata": {},
   "outputs": [
    {
     "name": "stdout",
     "output_type": "stream",
     "text": [
      "<class 'pandas.core.frame.DataFrame'>\n",
      "RangeIndex: 10245 entries, 0 to 10244\n",
      "Data columns (total 14 columns):\n",
      " #   Column        Non-Null Count  Dtype \n",
      "---  ------        --------------  ----- \n",
      " 0   author        10211 non-null  object\n",
      " 1   title         10245 non-null  object\n",
      " 2   year          10245 non-null  int64 \n",
      " 3   month         10245 non-null  int64 \n",
      " 4   date          10245 non-null  int64 \n",
      " 5   time          10244 non-null  object\n",
      " 6   message_data  10245 non-null  object\n",
      " 7   message       10176 non-null  object\n",
      " 8   message_day   10243 non-null  object\n",
      " 9   message_time  10244 non-null  object\n",
      " 10  message_ip    10243 non-null  object\n",
      " 11  type          10245 non-null  object\n",
      " 12  Break_word    10103 non-null  object\n",
      " 13  POS_tags      10103 non-null  object\n",
      "dtypes: int64(3), object(11)\n",
      "memory usage: 1.1+ MB\n"
     ]
    }
   ],
   "source": [
    "df_2022.info()"
   ]
  },
  {
   "cell_type": "code",
   "execution_count": 27,
   "id": "f90d1b69-2080-4769-a99c-e788240621cc",
   "metadata": {},
   "outputs": [
    {
     "name": "stdout",
     "output_type": "stream",
     "text": [
      "<class 'pandas.core.frame.DataFrame'>\n",
      "Int64Index: 8279 entries, 4 to 10090\n",
      "Data columns (total 14 columns):\n",
      " #   Column        Non-Null Count  Dtype \n",
      "---  ------        --------------  ----- \n",
      " 0   author        8245 non-null   object\n",
      " 1   title         8279 non-null   object\n",
      " 2   year          8279 non-null   int64 \n",
      " 3   month         8279 non-null   int64 \n",
      " 4   date          8279 non-null   int64 \n",
      " 5   time          8278 non-null   object\n",
      " 6   message_data  8279 non-null   object\n",
      " 7   message       8228 non-null   object\n",
      " 8   message_day   8277 non-null   object\n",
      " 9   message_time  8278 non-null   object\n",
      " 10  message_ip    8277 non-null   object\n",
      " 11  type          8279 non-null   object\n",
      " 12  Break_word    8168 non-null   object\n",
      " 13  POS_tags      8168 non-null   object\n",
      "dtypes: int64(3), object(11)\n",
      "memory usage: 970.2+ KB\n"
     ]
    }
   ],
   "source": [
    "#To extract data where the \"year\" field is equal to 2022\n",
    "df_2022 = df_2022[df_2022['year'] == 2022]\n",
    "df_2022.info()"
   ]
  },
  {
   "cell_type": "code",
   "execution_count": 28,
   "id": "53c78026-2c45-43e1-a63a-b77a380eb802",
   "metadata": {},
   "outputs": [
    {
     "data": {
      "text/html": [
       "<div>\n",
       "<style scoped>\n",
       "    .dataframe tbody tr th:only-of-type {\n",
       "        vertical-align: middle;\n",
       "    }\n",
       "\n",
       "    .dataframe tbody tr th {\n",
       "        vertical-align: top;\n",
       "    }\n",
       "\n",
       "    .dataframe thead th {\n",
       "        text-align: right;\n",
       "    }\n",
       "</style>\n",
       "<table border=\"1\" class=\"dataframe\">\n",
       "  <thead>\n",
       "    <tr style=\"text-align: right;\">\n",
       "      <th></th>\n",
       "      <th>author</th>\n",
       "      <th>title</th>\n",
       "      <th>year</th>\n",
       "      <th>month</th>\n",
       "      <th>date</th>\n",
       "      <th>time</th>\n",
       "      <th>message_data</th>\n",
       "      <th>message</th>\n",
       "      <th>message_day</th>\n",
       "      <th>message_time</th>\n",
       "      <th>message_ip</th>\n",
       "      <th>type</th>\n",
       "      <th>Break_word</th>\n",
       "      <th>POS_tags</th>\n",
       "    </tr>\n",
       "  </thead>\n",
       "  <tbody>\n",
       "    <tr>\n",
       "      <th>4</th>\n",
       "      <td>NaN</td>\n",
       "      <td>[新聞] 加密貨幣產業又出事！美最大比特幣挖礦公</td>\n",
       "      <td>2022</td>\n",
       "      <td>12</td>\n",
       "      <td>22</td>\n",
       "      <td>10:32</td>\n",
       "      <td>2022/12/22</td>\n",
       "      <td>這是真的我上次去日本玩隔壁車廂就在拍a片我還被找</td>\n",
       "      <td>5/05</td>\n",
       "      <td>10:32</td>\n",
       "      <td>0</td>\n",
       "      <td>推</td>\n",
       "      <td>是,真的,上,次,去,日本,玩,隔壁,車廂,就,在,拍,a片,還,被,找</td>\n",
       "      <td>是 SHI,真的 D,上 Nes,次 Nf,去 VCL,日本 Nc,玩 VC,隔壁 Nc,車...</td>\n",
       "    </tr>\n",
       "    <tr>\n",
       "      <th>5</th>\n",
       "      <td>NaN</td>\n",
       "      <td>[新聞] 加密貨幣產業又出事！美最大比特幣挖礦公</td>\n",
       "      <td>2022</td>\n",
       "      <td>12</td>\n",
       "      <td>22</td>\n",
       "      <td>10:23:11</td>\n",
       "      <td>2022/12/22</td>\n",
       "      <td>去拍打雞肉</td>\n",
       "      <td>5/05</td>\n",
       "      <td>10:23:11</td>\n",
       "      <td>0</td>\n",
       "      <td>推</td>\n",
       "      <td>去,拍打,雞肉</td>\n",
       "      <td>去 D,拍打 VC,雞肉 Na</td>\n",
       "    </tr>\n",
       "  </tbody>\n",
       "</table>\n",
       "</div>"
      ],
      "text/plain": [
       "  author                     title  year  month  date      time message_data  \\\n",
       "4    NaN  [新聞] 加密貨幣產業又出事！美最大比特幣挖礦公  2022     12    22     10:32   2022/12/22   \n",
       "5    NaN  [新聞] 加密貨幣產業又出事！美最大比特幣挖礦公  2022     12    22  10:23:11   2022/12/22   \n",
       "\n",
       "                    message message_day message_time message_ip type  \\\n",
       "4  這是真的我上次去日本玩隔壁車廂就在拍a片我還被找        5/05        10:32          0    推   \n",
       "5                     去拍打雞肉        5/05     10:23:11          0    推   \n",
       "\n",
       "                             Break_word  \\\n",
       "4  是,真的,上,次,去,日本,玩,隔壁,車廂,就,在,拍,a片,還,被,找   \n",
       "5                               去,拍打,雞肉   \n",
       "\n",
       "                                            POS_tags  \n",
       "4  是 SHI,真的 D,上 Nes,次 Nf,去 VCL,日本 Nc,玩 VC,隔壁 Nc,車...  \n",
       "5                                    去 D,拍打 VC,雞肉 Na  "
      ]
     },
     "execution_count": 28,
     "metadata": {},
     "output_type": "execute_result"
    }
   ],
   "source": [
    "df_2022.head(2)"
   ]
  },
  {
   "cell_type": "code",
   "execution_count": 29,
   "id": "4176a40f-6ef8-4fdb-b6ec-af631c82625b",
   "metadata": {},
   "outputs": [
    {
     "data": {
      "text/plain": [
       "author           34\n",
       "title             0\n",
       "year              0\n",
       "month             0\n",
       "date              0\n",
       "time              1\n",
       "message_data      0\n",
       "message          51\n",
       "message_day       2\n",
       "message_time      1\n",
       "message_ip        2\n",
       "type              0\n",
       "Break_word      111\n",
       "POS_tags        111\n",
       "dtype: int64"
      ]
     },
     "execution_count": 29,
     "metadata": {},
     "output_type": "execute_result"
    }
   ],
   "source": [
    "#To calculate the total number of null values in each row\n",
    "df_2022.isnull().sum()"
   ]
  },
  {
   "cell_type": "code",
   "execution_count": 30,
   "id": "14511875-215a-4103-873d-b7274c235c85",
   "metadata": {},
   "outputs": [
    {
     "data": {
      "text/plain": [
       "(8168, 14)"
      ]
     },
     "execution_count": 30,
     "metadata": {},
     "output_type": "execute_result"
    }
   ],
   "source": [
    "#To specify removing null values in the \"bertopic_stopword\" column\n",
    "df_2022.dropna(subset=['Break_word'], how='any',inplace=True)\n",
    "df_2022.shape"
   ]
  },
  {
   "cell_type": "code",
   "execution_count": 31,
   "id": "c0a8e5e1-f66b-4da1-87cb-7da949ee219e",
   "metadata": {},
   "outputs": [
    {
     "name": "stdout",
     "output_type": "stream",
     "text": [
      "<class 'pandas.core.frame.DataFrame'>\n",
      "Int64Index: 8168 entries, 4 to 10090\n",
      "Data columns (total 14 columns):\n",
      " #   Column        Non-Null Count  Dtype \n",
      "---  ------        --------------  ----- \n",
      " 0   author        8136 non-null   object\n",
      " 1   title         8168 non-null   object\n",
      " 2   year          8168 non-null   int64 \n",
      " 3   month         8168 non-null   int64 \n",
      " 4   date          8168 non-null   int64 \n",
      " 5   time          8167 non-null   object\n",
      " 6   message_data  8168 non-null   object\n",
      " 7   message       8168 non-null   object\n",
      " 8   message_day   8166 non-null   object\n",
      " 9   message_time  8167 non-null   object\n",
      " 10  message_ip    8166 non-null   object\n",
      " 11  type          8168 non-null   object\n",
      " 12  Break_word    8168 non-null   object\n",
      " 13  POS_tags      8168 non-null   object\n",
      "dtypes: int64(3), object(11)\n",
      "memory usage: 957.2+ KB\n"
     ]
    }
   ],
   "source": [
    "df_2022.info()"
   ]
  },
  {
   "cell_type": "code",
   "execution_count": 32,
   "id": "f25d5a9f-3b2b-477a-bd8d-85087cf2f65f",
   "metadata": {},
   "outputs": [],
   "source": [
    "# 設定儲存 CSV 檔案的資料夾路徑\n",
    "save_dir = \"./PTT_data/Data preprocessing/\"\n",
    "\n",
    "# 確認資料夾路徑存在，若不存在就建立資料夾\n",
    "if not os.path.exists(save_dir):\n",
    "    os.makedirs(save_dir)\n",
    "\n",
    "# 將資料框儲存成 CSV 檔案到指定的資料夾中\n",
    "filename = \"2022_comment_job.csv\" # 檔案名稱\n",
    "df_2022.to_csv(os.path.join(save_dir, filename), index=False,encoding='utf-8-sig')"
   ]
  },
  {
   "cell_type": "code",
   "execution_count": null,
   "id": "6803c589-763e-4347-b444-e849086d7881",
   "metadata": {},
   "outputs": [],
   "source": []
  }
 ],
 "metadata": {
  "kernelspec": {
   "display_name": "Python 3 (ipykernel)",
   "language": "python",
   "name": "python3"
  },
  "language_info": {
   "codemirror_mode": {
    "name": "ipython",
    "version": 3
   },
   "file_extension": ".py",
   "mimetype": "text/x-python",
   "name": "python",
   "nbconvert_exporter": "python",
   "pygments_lexer": "ipython3",
   "version": "3.9.12"
  }
 },
 "nbformat": 4,
 "nbformat_minor": 5
}
