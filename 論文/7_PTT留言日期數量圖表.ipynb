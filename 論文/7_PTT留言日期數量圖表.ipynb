{
 "cells": [
  {
   "cell_type": "code",
   "execution_count": 1,
   "id": "f865f2b6-9e93-40cd-8872-8eca1fd70b09",
   "metadata": {},
   "outputs": [],
   "source": [
    "import pandas as pd\n",
    "import matplotlib.pyplot as plt\n",
    "import matplotlib.dates as mdates\n",
    "from matplotlib.font_manager import FontProperties\n",
    "plt.rcParams['font.sans-serif'] = ['Microsoft JhengHei'] \n",
    "plt.rcParams['axes.unicode_minus'] = False\n",
    "import matplotlib.colors as mcolors\n",
    "color = mcolors.TABLEAU_COLORS #顏色變化\n",
    "import seaborn as sns\n",
    "from datetime import date\n",
    "import os"
   ]
  },
  {
   "cell_type": "markdown",
   "id": "702d272d-9808-4ce3-b320-25a67da1594b",
   "metadata": {
    "tags": []
   },
   "source": [
    "### 發文數量統計"
   ]
  },
  {
   "cell_type": "code",
   "execution_count": 2,
   "id": "38ab2cfc-4308-4d60-945f-4f7908c8b54a",
   "metadata": {},
   "outputs": [
    {
     "name": "stdout",
     "output_type": "stream",
     "text": [
      "<class 'pandas.core.frame.DataFrame'>\n",
      "RangeIndex: 341 entries, 0 to 340\n",
      "Data columns (total 10 columns):\n",
      " #   Column      Non-Null Count  Dtype \n",
      "---  ------      --------------  ----- \n",
      " 0   Author      339 non-null    object\n",
      " 1   Title       341 non-null    object\n",
      " 2   Year        341 non-null    int64 \n",
      " 3   Month       341 non-null    int64 \n",
      " 4   Day         341 non-null    int64 \n",
      " 5   Time        341 non-null    object\n",
      " 6   Data        341 non-null    object\n",
      " 7   Content     341 non-null    object\n",
      " 8   Break_word  341 non-null    object\n",
      " 9   POS_tags    341 non-null    object\n",
      "dtypes: int64(3), object(7)\n",
      "memory usage: 26.8+ KB\n"
     ]
    }
   ],
   "source": [
    "df_article_time = pd.read_csv(r\".\\Original_Data\\6ckip斷詞\\Break_Word_all_Article_Summary.csv\")\n",
    "df_article_time.info()"
   ]
  },
  {
   "cell_type": "code",
   "execution_count": 22,
   "id": "e2ea7fb2-8e18-4b2a-abdd-4cd63297a3a4",
   "metadata": {},
   "outputs": [
    {
     "name": "stdout",
     "output_type": "stream",
     "text": [
      "2021-02     1\n",
      "2021-09     2\n",
      "2021-10    32\n",
      "2021-11    28\n",
      "2021-12    24\n",
      "2022-01    34\n",
      "2022-02    27\n",
      "2022-03    12\n",
      "2022-04     5\n",
      "2022-05    22\n",
      "2022-06    62\n",
      "2022-07    21\n",
      "2022-08     2\n",
      "2022-09     4\n",
      "2022-10     4\n",
      "2022-11    48\n",
      "2022-12     8\n",
      "Freq: M, Name: year_month, dtype: int64\n"
     ]
    },
    {
     "data": {
      "image/png": "[encoded data removed]",
      "text/plain": [
       "<Figure size 432x288 with 1 Axes>"
      ]
     },
     "metadata": {
      "needs_background": "light"
     },
     "output_type": "display_data"
    }
   ],
   "source": [
    "# 將 'data' 欄位轉換為日期時間格式\n",
    "df_article_time['Data'] = pd.to_datetime(df_article_time['Data'])\n",
    "\n",
    "# 選取 2021-2022 年的資料\n",
    "start_date = '2021-01-01'\n",
    "end_date = '2022-12-31'\n",
    "mask = (df_article_time['Data'] >= start_date) & (df_article_time['Data'] <= end_date)\n",
    "df_article_time = df_article_time.loc[mask]\n",
    "\n",
    "# 新增 'year_month' 欄位，表示每則留言的年月份\n",
    "df_article_time['year_month'] = df_article_time['Data'].dt.to_period('M')\n",
    "\n",
    "# 繪製每月的留言數量圖形\n",
    "monthly_count = df_article_time['year_month'].value_counts().sort_index()\n",
    "print(monthly_count)\n",
    "\n",
    "\n",
    "# 設定全局字型大小為 16\n",
    "plt.rcParams.update({'font.size': 16})\n",
    "\n",
    "# 繪製每月的留言數量柱狀圖\n",
    "plt.bar(monthly_count.index.astype(str), monthly_count.values)\n",
    "\n",
    "plt.title('2021-2022年 每月發文數量統計')\n",
    "plt.xlabel('月份')\n",
    "plt.ylabel('數量')\n",
    "\n",
    "plt.xticks(rotation=75, ha='right')\n",
    "plt.grid(axis='y')\n",
    "\n",
    "# 保存圖形為 PNG 格式\n",
    "# plt.savefig(f'./Original_Data/6ckip斷詞/2021_2022monthly_post_counts.png',dpi=300, bbox_inches='tight')\n",
    "plt.show()"
   ]
  },
  {
   "cell_type": "code",
   "execution_count": null,
   "id": "9237dbf2-7544-461b-a86b-a94f3fc1c9bb",
   "metadata": {},
   "outputs": [],
   "source": []
  },
  {
   "cell_type": "markdown",
   "id": "2ab6fda7-4768-4d77-982c-dbb422d1dc92",
   "metadata": {
    "tags": []
   },
   "source": [
    "### 留言數量統計"
   ]
  },
  {
   "cell_type": "code",
   "execution_count": 12,
   "id": "5c6575ae-3be2-40e0-be08-d56cbcb889e8",
   "metadata": {},
   "outputs": [
    {
     "name": "stdout",
     "output_type": "stream",
     "text": [
      "<class 'pandas.core.frame.DataFrame'>\n",
      "RangeIndex: 10245 entries, 0 to 10244\n",
      "Data columns (total 15 columns):\n",
      " #   Column        Non-Null Count  Dtype \n",
      "---  ------        --------------  ----- \n",
      " 0   author        10211 non-null  object\n",
      " 1   title         10245 non-null  object\n",
      " 2   year          10245 non-null  int64 \n",
      " 3   month         10245 non-null  int64 \n",
      " 4   date          10245 non-null  int64 \n",
      " 5   time          10244 non-null  object\n",
      " 6   message_data  10245 non-null  object\n",
      " 7   message       10176 non-null  object\n",
      " 8   留言日期          10245 non-null  object\n",
      " 9   message_day   10245 non-null  object\n",
      " 10  message_time  10244 non-null  object\n",
      " 11  message_ip    10243 non-null  object\n",
      " 12  type          10245 non-null  object\n",
      " 13  Break_word    10103 non-null  object\n",
      " 14  POS_tags      10103 non-null  object\n",
      "dtypes: int64(3), object(12)\n",
      "memory usage: 1.2+ MB\n"
     ]
    }
   ],
   "source": [
    "df_comment_time = pd.read_csv(r\".\\PTT_data\\Data preprocessing\\Break_Word_all_Comment_job.csv\")\n",
    "df_comment_time.info()"
   ]
  },
  {
   "cell_type": "code",
   "execution_count": 13,
   "id": "dd1cfb12-e7b3-493b-bdb0-5226bddb7fb2",
   "metadata": {},
   "outputs": [
    {
     "data": {
      "text/html": [
       "<div>\n",
       "<style scoped>\n",
       "    .dataframe tbody tr th:only-of-type {\n",
       "        vertical-align: middle;\n",
       "    }\n",
       "\n",
       "    .dataframe tbody tr th {\n",
       "        vertical-align: top;\n",
       "    }\n",
       "\n",
       "    .dataframe thead th {\n",
       "        text-align: right;\n",
       "    }\n",
       "</style>\n",
       "<table border=\"1\" class=\"dataframe\">\n",
       "  <thead>\n",
       "    <tr style=\"text-align: right;\">\n",
       "      <th></th>\n",
       "      <th>author</th>\n",
       "      <th>title</th>\n",
       "      <th>year</th>\n",
       "      <th>month</th>\n",
       "      <th>date</th>\n",
       "      <th>time</th>\n",
       "      <th>message_data</th>\n",
       "      <th>message</th>\n",
       "      <th>留言日期</th>\n",
       "      <th>message_day</th>\n",
       "      <th>message_time</th>\n",
       "      <th>message_ip</th>\n",
       "      <th>type</th>\n",
       "      <th>Break_word</th>\n",
       "      <th>POS_tags</th>\n",
       "    </tr>\n",
       "  </thead>\n",
       "  <tbody>\n",
       "    <tr>\n",
       "      <th>0</th>\n",
       "      <td>deeeplove (巴達獸 可愛d(`･∀･)b)</td>\n",
       "      <td>[新聞] 韋禮安投資加密貨幣慘跌　認了「身家都</td>\n",
       "      <td>2022</td>\n",
       "      <td>1</td>\n",
       "      <td>6</td>\n",
       "      <td>09:41</td>\n",
       "      <td>2022/1/6</td>\n",
       "      <td>他發有人買嗎</td>\n",
       "      <td>2022-01-06</td>\n",
       "      <td>1月6日</td>\n",
       "      <td>09:41</td>\n",
       "      <td>59.115.52.66</td>\n",
       "      <td>推</td>\n",
       "      <td>發,有,人,買</td>\n",
       "      <td>發 VD,有 V_2,人 Na,買 VC</td>\n",
       "    </tr>\n",
       "  </tbody>\n",
       "</table>\n",
       "</div>"
      ],
      "text/plain": [
       "                       author                    title  year  month  date  \\\n",
       "0  deeeplove (巴達獸 可愛d(`･∀･)b)  [新聞] 韋禮安投資加密貨幣慘跌　認了「身家都  2022      1     6   \n",
       "\n",
       "    time message_data message        留言日期 message_day message_time  \\\n",
       "0  09:41     2022/1/6  他發有人買嗎  2022-01-06        1月6日        09:41   \n",
       "\n",
       "     message_ip type Break_word              POS_tags  \n",
       "0  59.115.52.66    推    發,有,人,買  發 VD,有 V_2,人 Na,買 VC  "
      ]
     },
     "execution_count": 13,
     "metadata": {},
     "output_type": "execute_result"
    }
   ],
   "source": [
    "df_comment_time.head(1)"
   ]
  },
  {
   "cell_type": "code",
   "execution_count": null,
   "id": "628ca977-928a-49f0-ad7e-486d674c8a45",
   "metadata": {},
   "outputs": [
    {
     "name": "stdout",
     "output_type": "stream",
     "text": [
      "2021-01       2\n",
      "2021-02      19\n",
      "2021-03       6\n",
      "2021-05       2\n",
      "2021-07       1\n",
      "2021-09      41\n",
      "2021-10     648\n",
      "2021-11     657\n",
      "2021-12     507\n",
      "2022-01    1229\n",
      "2022-02     708\n",
      "2022-03     462\n",
      "2022-04      69\n",
      "2022-05     523\n",
      "2022-06    2339\n",
      "2022-07     379\n",
      "2022-08     134\n",
      "2022-09     128\n",
      "2022-10     126\n",
      "2022-11    1890\n",
      "2022-12     292\n",
      "Freq: M, Name: year_month, dtype: int64\n"
     ]
    },
    {
     "data": {
      "image/png": "[encoded data removed]",
      "text/plain": [
       "<Figure size 432x288 with 1 Axes>"
      ]
     },
     "metadata": {
      "needs_background": "light"
     },
     "output_type": "display_data"
    }
   ],
   "source": [
    "df_comment_time = pd.read_csv(r\".\\Original_Data\\6ckip斷詞\\Break_Word_all_Comment.csv\")\n",
    "# 將 'data' 欄位轉換為日期時間格式\n",
    "df_comment_time['data'] = pd.to_datetime(df_comment_time['留言日期'])\n",
    "\n",
    "# 選取 2021-2022 年的資料\n",
    "start_date = '2021-01-01'\n",
    "end_date = '2022-12-31'\n",
    "mask = (df_comment_time['data'] >= start_date) & (df_comment_time['data'] <= end_date)\n",
    "df_comment_time = df_comment_time.loc[mask]\n",
    "\n",
    "# 新增 'year_month' 欄位，表示每則留言的年月份\n",
    "df_comment_time['year_month'] = df_comment_time['data'].dt.to_period('M')\n",
    "\n",
    "# 繪製每月的留言數量圖形\n",
    "monthly_count = df_comment_time['year_month'].value_counts().sort_index()\n",
    "print(monthly_count)\n",
    "\n",
    "# fig = plt.figure(figsize=(8,6))\n",
    "# 設定全局字型大小為 14\n",
    "plt.rcParams.update({'font.size': 16})\n",
    "\n",
    "# 繪製每月的留言數量柱狀圖\n",
    "plt.bar(monthly_count.index.astype(str), monthly_count.values)\n",
    "    \n",
    "plt.title('2021-2022年 每月留言數量統計')\n",
    "plt.xlabel('月份')\n",
    "plt.ylabel('數量')\n",
    "\n",
    "plt.xticks(rotation=75, ha='right')\n",
    "plt.grid(axis='y')\n",
    "# 保存圖形為 PNG 格式\n",
    "plt.savefig(f'./Original_Data/6ckip斷詞/2021_2022monthly_comment_counts.png',dpi=300, bbox_inches='tight')\n",
    "plt.show()"
   ]
  },
  {
   "cell_type": "code",
   "execution_count": 27,
   "id": "f45d197d-2064-4034-8e80-185efb3dcd35",
   "metadata": {},
   "outputs": [
    {
     "name": "stdout",
     "output_type": "stream",
     "text": [
      "2022-01    1211\n",
      "2022-02     699\n",
      "2022-03     458\n",
      "2022-04      69\n",
      "2022-05     514\n",
      "2022-06    2311\n",
      "2022-07     374\n",
      "2022-08     129\n",
      "2022-09     127\n",
      "2022-10     122\n",
      "2022-11    1867\n",
      "2022-12     287\n",
      "Freq: M, Name: year_month, dtype: int64\n"
     ]
    },
    {
     "data": {
      "image/png": "[encoded data removed]",
      "text/plain": [
       "<Figure size 432x288 with 1 Axes>"
      ]
     },
     "metadata": {
      "needs_background": "light"
     },
     "output_type": "display_data"
    }
   ],
   "source": [
    "df_comment_time = pd.read_csv(r\".\\PTT_data\\Data preprocessing\\2022_comment_job.csv\")\n",
    "# 將 'data' 欄位轉換為日期時間格式\n",
    "df_comment_time['data'] = pd.to_datetime(df_comment_time['留言日期'])\n",
    "\n",
    "# 選取 2022 年的資料\n",
    "start_date = '2022-01-01'\n",
    "end_date = '2022-12-31'\n",
    "mask = (df_comment_time['data'] >= start_date) & (df_comment_time['data'] <= end_date)\n",
    "df_comment_time = df_comment_time.loc[mask]\n",
    "\n",
    "# 新增 'year_month' 欄位，表示每則留言的年月份\n",
    "df_comment_time['year_month'] = df_comment_time['data'].dt.to_period('M')\n",
    "\n",
    "# 繪製每月的留言數量圖形\n",
    "monthly_count = df_comment_time['year_month'].value_counts().sort_index()\n",
    "print(monthly_count)\n",
    "\n",
    "# 設定全局字型大小為 14\n",
    "plt.rcParams.update({'font.size': 14})\n",
    "\n",
    "# 繪製每月的留言數量柱狀圖\n",
    "plt.bar(monthly_count.index.astype(str), monthly_count.values,color='#6495ED')\n",
    "\n",
    "# 添加數字標籤\n",
    "for i, v in enumerate(monthly_count.values):\n",
    "    plt.text(i, v + 1, str(v), ha='center', fontsize=12)    \n",
    "\n",
    "plt.title('2022年 PTT八卦板留言數量')\n",
    "plt.xlabel('月份')\n",
    "plt.ylabel('數量')\n",
    "plt.xticks(rotation=45, ha='right')\n",
    "plt.grid(axis='y')\n",
    "\n",
    "# 保存圖形為 PNG 格式\n",
    "plt.savefig(f'./Original_Data/6ckip斷詞/2022CKIP_monthly_comment_counts.png',dpi=300, bbox_inches='tight')\n",
    "\n",
    "plt.show()"
   ]
  },
  {
   "cell_type": "code",
   "execution_count": null,
   "id": "746cd146-72f8-4ad5-876c-c67dc999dc3b",
   "metadata": {},
   "outputs": [],
   "source": []
  },
  {
   "cell_type": "markdown",
   "id": "b88cd476-7185-41bd-9594-371ad8b765a1",
   "metadata": {
    "tags": []
   },
   "source": [
    "### 留言種類統計"
   ]
  },
  {
   "cell_type": "code",
   "execution_count": 26,
   "id": "8ec28d83-e1f5-43fb-8837-2940c688f410",
   "metadata": {},
   "outputs": [
    {
     "name": "stdout",
     "output_type": "stream",
     "text": [
      "<class 'pandas.core.frame.DataFrame'>\n",
      "RangeIndex: 10245 entries, 0 to 10244\n",
      "Data columns (total 14 columns):\n",
      " #   Column        Non-Null Count  Dtype \n",
      "---  ------        --------------  ----- \n",
      " 0   author        10211 non-null  object\n",
      " 1   title         10245 non-null  object\n",
      " 2   year          10245 non-null  int64 \n",
      " 3   month         10245 non-null  int64 \n",
      " 4   date          10245 non-null  int64 \n",
      " 5   time          10244 non-null  object\n",
      " 6   data          10245 non-null  object\n",
      " 7   message       10176 non-null  object\n",
      " 8   message_day   10243 non-null  object\n",
      " 9   message_time  10244 non-null  object\n",
      " 10  message_ip    10243 non-null  object\n",
      " 11  type          10245 non-null  object\n",
      " 12  Break_word    10144 non-null  object\n",
      " 13  POS_tags      10144 non-null  object\n",
      "dtypes: int64(3), object(11)\n",
      "memory usage: 1.1+ MB\n"
     ]
    }
   ],
   "source": [
    "df_comment_type = pd.read_csv(r\".\\PTT_data\\Data preprocessing\\Break_Word_all_Comment_job.csv\")\n",
    "df_comment_type.info()"
   ]
  },
  {
   "cell_type": "code",
   "execution_count": null,
   "id": "ac254a10-5a80-4c52-8c9b-3a51d776d85a",
   "metadata": {},
   "outputs": [
    {
     "name": "stdout",
     "output_type": "stream",
     "text": [
      "箭頭    3927\n",
      "推     3711\n",
      "噓      641\n",
      "Name: type, dtype: int64\n"
     ]
    },
    {
     "data": {
      "image/png": "[encoded data removed]",
      "text/plain": [
       "<Figure size 432x288 with 1 Axes>"
      ]
     },
     "metadata": {
      "needs_background": "light"
     },
     "output_type": "display_data"
    }
   ],
   "source": [
    "# 新增欄位表示年份\n",
    "df_comment_type['data'] = pd.to_datetime(df_comment_type['data']).dt.year\n",
    "\n",
    "# 篩選出 2022 年的留言資料\n",
    "df_2022 = df_comment_type[df_comment_type['data'] == 2022]\n",
    "\n",
    "# 計算推需箭頭的數量\n",
    "counts = df_2022['type'].value_counts()\n",
    "print(counts)\n",
    "# 繪製長條圖\n",
    "\n",
    "plt.bar(counts.index, counts.values, color=color)\n",
    "plt.title('Comment Types in 2022')\n",
    "plt.xlabel('Type')\n",
    "plt.ylabel('Count')\n",
    "\n",
    "plt.show()"
   ]
  },
  {
   "cell_type": "code",
   "execution_count": 4,
   "id": "0b9de7a5-cd03-48fe-a3c3-43f736fe0197",
   "metadata": {},
   "outputs": [
    {
     "name": "stdout",
     "output_type": "stream",
     "text": [
      "箭頭    4952\n",
      "推     4462\n",
      "噓      831\n",
      "Name: type, dtype: int64\n"
     ]
    }
   ],
   "source": [
    "counts = df_comment_type['type'].value_counts()\n",
    "print(counts)"
   ]
  },
  {
   "cell_type": "code",
   "execution_count": 27,
   "id": "e4295475-62a6-450d-8036-66afa184844e",
   "metadata": {},
   "outputs": [
    {
     "data": {
      "text/plain": [
       "author           34\n",
       "title             0\n",
       "year              0\n",
       "month             0\n",
       "date              0\n",
       "time              1\n",
       "data              0\n",
       "message          69\n",
       "message_day       2\n",
       "message_time      1\n",
       "message_ip        2\n",
       "type              0\n",
       "Break_word      101\n",
       "POS_tags        101\n",
       "dtype: int64"
      ]
     },
     "execution_count": 27,
     "metadata": {},
     "output_type": "execute_result"
    }
   ],
   "source": [
    "df_comment_type.isnull().sum()"
   ]
  },
  {
   "cell_type": "code",
   "execution_count": 28,
   "id": "a6084af6-d0f2-4b4d-838a-984ab99e4760",
   "metadata": {},
   "outputs": [
    {
     "data": {
      "text/plain": [
       "(10109, 14)"
      ]
     },
     "execution_count": 28,
     "metadata": {},
     "output_type": "execute_result"
    }
   ],
   "source": [
    "df_comment_type.dropna(inplace=True)\n",
    "df_comment_type.shape"
   ]
  },
  {
   "cell_type": "code",
   "execution_count": 29,
   "id": "11e633ce-ad1f-4f44-acfc-993d8040dbc9",
   "metadata": {},
   "outputs": [
    {
     "data": {
      "text/plain": [
       "(0, 14)"
      ]
     },
     "execution_count": 29,
     "metadata": {},
     "output_type": "execute_result"
    }
   ],
   "source": [
    "#確認清楚刪除了\n",
    "df_comment_type[df_comment_type[\"Break_word\"].isnull()].shape"
   ]
  },
  {
   "cell_type": "code",
   "execution_count": 30,
   "id": "e950c016-5681-45c3-a144-864ddcee0ad8",
   "metadata": {},
   "outputs": [
    {
     "name": "stdout",
     "output_type": "stream",
     "text": [
      "<class 'pandas.core.frame.DataFrame'>\n",
      "Int64Index: 10109 entries, 0 to 10244\n",
      "Data columns (total 14 columns):\n",
      " #   Column        Non-Null Count  Dtype \n",
      "---  ------        --------------  ----- \n",
      " 0   author        10109 non-null  object\n",
      " 1   title         10109 non-null  object\n",
      " 2   year          10109 non-null  int64 \n",
      " 3   month         10109 non-null  int64 \n",
      " 4   date          10109 non-null  int64 \n",
      " 5   time          10109 non-null  object\n",
      " 6   data          10109 non-null  object\n",
      " 7   message       10109 non-null  object\n",
      " 8   message_day   10109 non-null  object\n",
      " 9   message_time  10109 non-null  object\n",
      " 10  message_ip    10109 non-null  object\n",
      " 11  type          10109 non-null  object\n",
      " 12  Break_word    10109 non-null  object\n",
      " 13  POS_tags      10109 non-null  object\n",
      "dtypes: int64(3), object(11)\n",
      "memory usage: 1.2+ MB\n"
     ]
    }
   ],
   "source": [
    "df_comment_type.info()"
   ]
  },
  {
   "cell_type": "code",
   "execution_count": 70,
   "id": "4cf8d53e-62bb-47db-b4a0-88acb58f89ce",
   "metadata": {},
   "outputs": [
    {
     "data": {
      "text/plain": [
       "10109"
      ]
     },
     "execution_count": 70,
     "metadata": {},
     "output_type": "execute_result"
    }
   ],
   "source": [
    "df_comment_type['type'].count()"
   ]
  },
  {
   "cell_type": "code",
   "execution_count": 71,
   "id": "8ea407a6-9be9-4233-87a2-e2d15f530d81",
   "metadata": {},
   "outputs": [
    {
     "name": "stdout",
     "output_type": "stream",
     "text": [
      "箭頭    4892\n",
      "推     4400\n",
      "噓      817\n",
      "Name: type, dtype: int64\n"
     ]
    }
   ],
   "source": [
    "counts = df_comment_type['type'].value_counts()\n",
    "print(counts)"
   ]
  },
  {
   "cell_type": "code",
   "execution_count": 63,
   "id": "c43adc9b-8c1b-4f1a-b34f-dc1f54b7ce9a",
   "metadata": {},
   "outputs": [
    {
     "data": {
      "image/png": "[encoded data removed]",
      "text/plain": [
       "<Figure size 432x288 with 1 Axes>"
      ]
     },
     "metadata": {
      "needs_background": "light"
     },
     "output_type": "display_data"
    }
   ],
   "source": [
    "#這邊是在看2021-2023全部種類數量\n",
    "counts = df_comment_type['type'].value_counts()\n",
    "\n",
    "plt.bar(counts.index, counts.values,color=color)\n",
    "plt.title('Comment Types')\n",
    "plt.xlabel('Type')\n",
    "plt.ylabel('Count')\n",
    "\n",
    "plt.show()"
   ]
  },
  {
   "cell_type": "code",
   "execution_count": 31,
   "id": "23b35abb-0e58-4603-ad87-81dcaee389d8",
   "metadata": {},
   "outputs": [
    {
     "name": "stdout",
     "output_type": "stream",
     "text": [
      "箭頭    3878\n",
      "推     3656\n",
      "噓      630\n",
      "Name: type, dtype: int64\n"
     ]
    },
    {
     "data": {
      "image/png": "[encoded data removed]",
      "text/plain": [
       "<Figure size 432x288 with 1 Axes>"
      ]
     },
     "metadata": {
      "needs_background": "light"
     },
     "output_type": "display_data"
    }
   ],
   "source": [
    "#這邊特別取出2022年份種類了解占比多少\n",
    "\n",
    "# 新增欄位表示年份\n",
    "df_comment_type['data'] = pd.to_datetime(df_comment_type['data']).dt.year\n",
    "\n",
    "# 篩選出 2022 年的留言資料\n",
    "df_2022 = df_comment_type[df_comment_type['data'] == 2022]\n",
    "\n",
    "# 計算推需箭頭的數量\n",
    "counts = df_2022['type'].value_counts()\n",
    "print(counts)\n",
    "# 繪製長條圖\n",
    "\n",
    "plt.bar(counts.index, counts.values, color=color)\n",
    "plt.title('Comment Types in 2022')\n",
    "plt.xlabel('Type')\n",
    "plt.ylabel('Count')\n",
    "\n",
    "plt.show()"
   ]
  },
  {
   "cell_type": "code",
   "execution_count": null,
   "id": "b5019ec8-f3e3-435e-be73-276331ea7783",
   "metadata": {},
   "outputs": [],
   "source": []
  }
 ],
 "metadata": {
  "kernelspec": {
   "display_name": "Python 3 (ipykernel)",
   "language": "python",
   "name": "python3"
  },
  "language_info": {
   "codemirror_mode": {
    "name": "ipython",
    "version": 3
   },
   "file_extension": ".py",
   "mimetype": "text/x-python",
   "name": "python",
   "nbconvert_exporter": "python",
   "pygments_lexer": "ipython3",
   "version": "3.9.12"
  }
 },
 "nbformat": 4,
 "nbformat_minor": 5
}
